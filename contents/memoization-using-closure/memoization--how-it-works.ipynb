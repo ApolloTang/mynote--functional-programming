{
 "cells": [
  {
   "attachments": {},
   "cell_type": "markdown",
   "metadata": {},
   "source": [
    "# Memoization that remember the execution results of a callback using closure\n",
    "\n",
    "This pattern store the result of callback execution in a closure during first execution.  "
   ]
  },
  {
   "cell_type": "code",
   "execution_count": 1,
   "metadata": {},
   "outputs": [
    {
     "name": "stdout",
     "output_type": "stream",
     "text": [
      "cache:  { '1': 2 }\n",
      "addOneMemoize_1(1):  2\n",
      "cache:  { '1': 2, '2': 3 }\n",
      "addOneMemoize_1(2):  3\n",
      "cache:  { '1': 2, '2': 3, '3': 4 }\n",
      "addOneMemoize_1(3):  4\n",
      "----- another instance of closure ----\n"
     ]
    }
   ],
   "source": [
    ";(()=>{\n",
    "function memoize(cb) {\n",
    "    const cache = {}\n",
    "    return function memoized(key) {\n",
    "      if (cache[key] === undefined) {\n",
    "        cache[key] = cb(key)\n",
    "      }\n",
    "      console.log('cache: ', cache)\n",
    "      return cache[key]\n",
    "    }\n",
    "}\n",
    "\n",
    "const addOne = (num) => num + 1\n",
    "\n",
    "const addOneMemoize_1 = memoize(addOne)\n",
    "console.log('addOneMemoize_1(1): ', addOneMemoize_1(1))\n",
    "console.log('addOneMemoize_1(2): ', addOneMemoize_1(2))\n",
    "console.log('addOneMemoize_1(3): ', addOneMemoize_1(3))\n",
    "\n",
    "console.log('----- another instance of closure ----')\n",
    "})();"
   ]
  },
  {
   "cell_type": "code",
   "execution_count": 2,
   "metadata": {},
   "outputs": [
    {
     "name": "stderr",
     "output_type": "stream",
     "text": [
      "1:25 - Cannot find name 'memoize'.\n",
      "1:33 - Cannot find name 'addOne'.\n"
     ]
    }
   ],
   "source": [
    "const addOneMemoize_2 = memoize(addOne)\n",
    "console.log('addOneMemoize_2(1): ', addOneMemoize_2(1))\n",
    "console.log('addOneMemoize_2(2): ', addOneMemoize_2(2))\n",
    "console.log('addOneMemoize_2(3): ', addOneMemoize_2(3))\n"
   ]
  },
  {
   "attachments": {},
   "cell_type": "markdown",
   "metadata": {},
   "source": [
    "Notice that each execution of function `memoize` creates an instance of closure. In this closure instance, the value of variable `cached` is \"frozen\" in the instance of functional scope. "
   ]
  }
 ],
 "metadata": {
  "kernelspec": {
   "display_name": "JavaScript",
   "language": "javascript",
   "name": "jslab"
  },
  "language_info": {
   "file_extension": ".js",
   "mimetype": "text/javascript",
   "name": "javascript",
   "version": ""
  },
  "orig_nbformat": 4
 },
 "nbformat": 4,
 "nbformat_minor": 2
}
