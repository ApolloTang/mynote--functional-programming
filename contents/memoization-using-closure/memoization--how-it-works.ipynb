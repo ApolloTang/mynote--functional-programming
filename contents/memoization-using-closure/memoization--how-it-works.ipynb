{
 "cells": [
  {
   "cell_type": "code",
   "execution_count": 1,
   "metadata": {},
   "outputs": [
    {
     "name": "stdout",
     "output_type": "stream",
     "text": [
      "cache:  { '1': 2 }\n",
      "2\n",
      "cache:  { '1': 2, '2': 3 }\n",
      "3\n",
      "cache:  { '1': 2, '2': 3, '3': 4 }\n",
      "4\n"
     ]
    }
   ],
   "source": [
    "function memoize(cb) {\n",
    "    const cache = {}\n",
    "    return function memoized(key) {\n",
    "      if (cache[key] === undefined) {\n",
    "        cache[key] = cb(key)\n",
    "      }\n",
    "      console.log('cache: ', cache)\n",
    "      return cache[key]\n",
    "    }\n",
    "}\n",
    "\n",
    "const addOne = (num) => num + 1\n",
    "let addOneMemoize = memoize(addOne)\n",
    "console.log(addOneMemoize(1))\n",
    "console.log(addOneMemoize(2))\n",
    "console.log(addOneMemoize(3))"
   ]
  }
 ],
 "metadata": {
  "kernelspec": {
   "display_name": "JavaScript",
   "language": "javascript",
   "name": "jslab"
  },
  "language_info": {
   "file_extension": ".js",
   "mimetype": "text/javascript",
   "name": "javascript",
   "version": ""
  },
  "orig_nbformat": 4
 },
 "nbformat": 4,
 "nbformat_minor": 2
}
